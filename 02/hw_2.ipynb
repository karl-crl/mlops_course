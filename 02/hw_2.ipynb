{
 "cells": [
  {
   "cell_type": "code",
   "execution_count": 1,
   "outputs": [],
   "source": [
    "import pandas as pd\n",
    "from preprocess_data import *"
   ],
   "metadata": {
    "collapsed": false,
    "pycharm": {
     "name": "#%%\n"
    }
   }
  },
  {
   "cell_type": "markdown",
   "source": [
    "## Q1: Install mlflow\n",
    "\n",
    "I have version 1.26.1"
   ],
   "metadata": {
    "collapsed": false,
    "pycharm": {
     "name": "#%% md\n"
    }
   }
  },
  {
   "cell_type": "markdown",
   "source": [
    "## Q2: Download and preprocess the data\n",
    "\n",
    "How many files were saved to OUTPUT_FOLDER?\n",
    "\n",
    "4 files"
   ],
   "metadata": {
    "collapsed": false,
    "pycharm": {
     "name": "#%% md\n"
    }
   }
  },
  {
   "cell_type": "markdown",
   "source": [
    "## Q3: Train a model with autolog\n",
    "\n",
    "How many parameters are automatically logged by MLflow?\n",
    "\n",
    "It was 18 in my case"
   ],
   "metadata": {
    "collapsed": false,
    "pycharm": {
     "name": "#%% md\n"
    }
   }
  },
  {
   "cell_type": "markdown",
   "source": [
    "## Q4. Launch the tracking server locally\n",
    "\n",
    "In addition to backend-store-uri, what else do you need to pass to properly configure the server?\n",
    "> default-artifact-root"
   ],
   "metadata": {
    "collapsed": false,
    "pycharm": {
     "name": "#%% md\n"
    }
   }
  },
  {
   "cell_type": "markdown",
   "source": [
    "## Q5. Tune the hyperparameters of the model\n",
    "\n",
    "What's the best validation RMSE that you got?\n",
    "\n",
    "6.628\n",
    "\n",
    "Params: {'max_depth': 19, 'min_samples_leaf': 3, 'min_samples_split': 5, 'n_estimators': 28, 'random_state': 42}"
   ],
   "metadata": {
    "collapsed": false,
    "pycharm": {
     "name": "#%% md\n"
    }
   }
  },
  {
   "cell_type": "markdown",
   "source": [
    "## Q6. Promote the best model to the model registry\n",
    "\n",
    "What is the test RMSE of the best model?\n",
    "\n",
    "6.55"
   ],
   "metadata": {
    "collapsed": false,
    "pycharm": {
     "name": "#%% md\n"
    }
   }
  }
 ],
 "metadata": {
  "kernelspec": {
   "display_name": "Python 3",
   "language": "python",
   "name": "python3"
  },
  "language_info": {
   "codemirror_mode": {
    "name": "ipython",
    "version": 2
   },
   "file_extension": ".py",
   "mimetype": "text/x-python",
   "name": "python",
   "nbconvert_exporter": "python",
   "pygments_lexer": "ipython2",
   "version": "2.7.6"
  }
 },
 "nbformat": 4,
 "nbformat_minor": 0
}